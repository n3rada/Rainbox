{
 "metadata": {
  "language_info": {
   "codemirror_mode": {
    "name": "ipython",
    "version": 3
   },
   "file_extension": ".py",
   "mimetype": "text/x-python",
   "name": "python",
   "nbconvert_exporter": "python",
   "pygments_lexer": "ipython3",
   "version": "3.8.5-final"
  },
  "orig_nbformat": 2,
  "kernelspec": {
   "name": "python3",
   "display_name": "Python 3",
   "language": "python"
  }
 },
 "nbformat": 4,
 "nbformat_minor": 2,
 "cells": [
  {
   "cell_type": "code",
   "execution_count": 1,
   "metadata": {},
   "outputs": [],
   "source": [
    "from ressources.tools import *\n",
    "import string, re\n",
    "import random as rd\n",
    "import time"
   ]
  },
  {
   "cell_type": "code",
   "execution_count": 1,
   "metadata": {},
   "outputs": [
    {
     "output_type": "execute_result",
     "data": {
      "text/plain": [
       "'459.979.345'"
      ]
     },
     "metadata": {},
     "execution_count": 1
    }
   ],
   "source": [
    "si pas darguments, lancer le help !"
   ]
  },
  {
   "cell_type": "code",
   "execution_count": 3,
   "metadata": {},
   "outputs": [],
   "source": [
    "if isStringTrue(\"FRAG_4-up-False\".split(\"-\")[-1]):\n",
    "    print(\"test\")"
   ]
  },
  {
   "cell_type": "code",
   "execution_count": 2,
   "metadata": {},
   "outputs": [
    {
     "output_type": "stream",
     "name": "stdout",
     "text": [
      "Creating Fragments list ...\n",
      "Fragments FRAG_4_HEXA-up have been created !\n",
      "\n",
      "\t --> Use keyboard interrupt command to stop the generating process <--\n",
      "\n",
      " -- After merging, 0 of the generated keys are duplicates. --\n",
      "\n",
      "Approximately 316192 keys were generated per second.\n",
      "1472571 keys added to the 13102871 present into the wordlist for a total of 14575442 keys availables.\n"
     ]
    }
   ],
   "source": [
    "writer(16) "
   ]
  },
  {
   "cell_type": "code",
   "execution_count": 2,
   "metadata": {},
   "outputs": [
    {
     "output_type": "stream",
     "name": "stdout",
     "text": [
      "66AFAE79192F488EC875820E3E 26 6.5 2\n6\nCSYWA2UG2GZC5UJYSU 18 4.5 2\n4\nFVOXKXNU4URHTLIZFQ 18 4.5 2\n4\n2F76667457E55A575E5FFA5DA5CE77 30 7.5 2\n7\nA3C5CDEC2C41FC2EC131EA5E47D6D7 30 7.5 2\n7\n24FFKV6USPJ2BDK92QKD 20 5.0 0\n5\n99D4ADAC1213F312D9ADC7C578 26 6.5 2\n6\nF459984E2C 10 2.5 2\n2\n5VKV9QK73NQ9V6KCQB5M5N 22 5.5 2\n5\nDISSIPARES4VALLADUM4AERES4CANISI 32 8.0 0\n8\nOUSC9AUREEPONGYNCEDA 20 5.0 0\n5\nOHEREZYGORIPMANGRU9D 20 5.0 0\n5\nR5LIL3HSCCME74ZXH6O 19 4.75 3\n4\nNPPZ2DMCW8QGD43YDQW6 20 5.0 0\n5\n69TRDD2VJI25KCEQ8PCZ 20 5.0 0\n5\n"
     ]
    }
   ],
   "source": [
    "for elt in mergedSamples():\n",
    "    elt=''.join(elt.split(\"-\"))\n",
    "    print(elt,len(elt),len(elt)/4,len(elt)%4)\n",
    "    print(numberOfWords(len(elt)))"
   ]
  },
  {
   "cell_type": "code",
   "execution_count": 14,
   "metadata": {},
   "outputs": [
    {
     "output_type": "stream",
     "name": "stdout",
     "text": [
      "Is 66AF into our list ? -> True\n",
      "Is AE79 into our list ? -> True\n",
      "Is 192F into our list ? -> True\n",
      "Is 488E into our list ? -> True\n",
      "Is C875 into our list ? -> True\n",
      "Is 820E into our list ? -> True\n",
      "Is 3E into our list ? -> False\n",
      "Is CSYW into our list ? -> True\n",
      "Is A2UG into our list ? -> True\n",
      "Is 2GZC into our list ? -> True\n",
      "Is 5UJY into our list ? -> True\n",
      "Is SU into our list ? -> False\n",
      "Is FVOX into our list ? -> True\n",
      "Is KXNU into our list ? -> True\n",
      "Is 4URH into our list ? -> True\n",
      "Is TLIZ into our list ? -> True\n",
      "Is FQ into our list ? -> False\n",
      "Is 2F76 into our list ? -> True\n",
      "Is 6674 into our list ? -> True\n",
      "Is 57E5 into our list ? -> True\n",
      "Is 5A57 into our list ? -> True\n",
      "Is 5E5F into our list ? -> True\n",
      "Is FA5D into our list ? -> True\n",
      "Is A5CE into our list ? -> True\n",
      "Is 77 into our list ? -> False\n",
      "Is A3C5 into our list ? -> True\n",
      "Is CDEC into our list ? -> True\n",
      "Is 2C41 into our list ? -> True\n",
      "Is FC2E into our list ? -> True\n",
      "Is C131 into our list ? -> True\n",
      "Is EA5E into our list ? -> True\n",
      "Is 47D6 into our list ? -> True\n",
      "Is D7 into our list ? -> False\n",
      "Is 24FF into our list ? -> True\n",
      "Is KV6U into our list ? -> True\n",
      "Is SPJ2 into our list ? -> True\n",
      "Is BDK9 into our list ? -> True\n",
      "Is 2QKD into our list ? -> True\n",
      "Is 99D4 into our list ? -> True\n",
      "Is ADAC into our list ? -> True\n",
      "Is 1213 into our list ? -> True\n",
      "Is F312 into our list ? -> True\n",
      "Is D9AD into our list ? -> True\n",
      "Is C7C5 into our list ? -> True\n",
      "Is 78 into our list ? -> False\n",
      "Is F459 into our list ? -> True\n",
      "Is 984E into our list ? -> True\n",
      "Is 2C into our list ? -> False\n",
      "Is 5VKV into our list ? -> True\n",
      "Is 9QK7 into our list ? -> True\n",
      "Is 3NQ9 into our list ? -> True\n",
      "Is V6KC into our list ? -> True\n",
      "Is QB5M into our list ? -> True\n",
      "Is 5N into our list ? -> False\n",
      "Is DISS into our list ? -> True\n",
      "Is IPAR into our list ? -> True\n",
      "Is ES4V into our list ? -> True\n",
      "Is ALLA into our list ? -> True\n",
      "Is DUM4 into our list ? -> True\n",
      "Is AERE into our list ? -> True\n",
      "Is S4CA into our list ? -> True\n",
      "Is NISI into our list ? -> True\n",
      "Is OUSC into our list ? -> True\n",
      "Is 9AUR into our list ? -> True\n",
      "Is EEPO into our list ? -> True\n",
      "Is NGYN into our list ? -> True\n",
      "Is CEDA into our list ? -> True\n",
      "Is OHER into our list ? -> True\n",
      "Is EZYG into our list ? -> True\n",
      "Is ORIP into our list ? -> True\n",
      "Is MANG into our list ? -> True\n",
      "Is RU9D into our list ? -> True\n",
      "Is R5LI into our list ? -> True\n",
      "Is L3HS into our list ? -> True\n",
      "Is CCME into our list ? -> True\n",
      "Is 74ZX into our list ? -> True\n",
      "Is H6O into our list ? -> False\n",
      "Is NPPZ into our list ? -> True\n",
      "Is 2DMC into our list ? -> True\n",
      "Is W8QG into our list ? -> True\n",
      "Is D43Y into our list ? -> True\n",
      "Is DQW6 into our list ? -> True\n",
      "Is 69TR into our list ? -> True\n",
      "Is DD2V into our list ? -> True\n",
      "Is JI25 into our list ? -> True\n",
      "Is KCEQ into our list ? -> True\n",
      "Is 8PCZ into our list ? -> True\n"
     ]
    }
   ],
   "source": [
    "FRAG_4 = list(handleFragments(\"FRAG_4\",\"mix\"))\n",
    "for elt in mergedSamplesIn4():\n",
    "    print(f\"Is {elt} into our list ? -> {elt in FRAG_4}\")"
   ]
  }
 ]
}